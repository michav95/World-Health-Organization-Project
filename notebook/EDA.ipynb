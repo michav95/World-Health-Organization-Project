{
 "cells": [
  {
   "cell_type": "markdown",
   "metadata": {
    "vscode": {
     "languageId": "plaintext"
    }
   },
   "source": [
    "EDIT OVERVIEW OF PROJECT"
   ]
  },
  {
   "cell_type": "code",
   "execution_count": 1,
   "metadata": {},
   "outputs": [],
   "source": [
    "# Import packages needed for analysis of data\n",
    "import pandas as pd\n",
    "import plotly.express as px\n",
    "import re\n",
    "from matplotlib import pyplot as plt \n",
    "import numpy as np \n",
    "from scipy import stats \n",
    "import seaborn as sns"
   ]
  },
  {
   "cell_type": "code",
   "execution_count": 2,
   "metadata": {},
   "outputs": [
    {
     "name": "stdout",
     "output_type": "stream",
     "text": [
      "<class 'pandas.core.frame.DataFrame'>\n",
      "RangeIndex: 2938 entries, 0 to 2937\n",
      "Data columns (total 22 columns):\n",
      " #   Column                           Non-Null Count  Dtype  \n",
      "---  ------                           --------------  -----  \n",
      " 0   Country                          2938 non-null   object \n",
      " 1   Year                             2938 non-null   int64  \n",
      " 2   Status                           2938 non-null   object \n",
      " 3   Life expectancy                  2928 non-null   float64\n",
      " 4   Adult Mortality                  2928 non-null   float64\n",
      " 5   infant deaths                    2938 non-null   int64  \n",
      " 6   Alcohol                          2744 non-null   float64\n",
      " 7   percentage expenditure           2938 non-null   float64\n",
      " 8   Hepatitis B                      2385 non-null   float64\n",
      " 9   Measles                          2938 non-null   int64  \n",
      " 10   BMI                             2904 non-null   float64\n",
      " 11  under-five deaths                2938 non-null   int64  \n",
      " 12  Polio                            2919 non-null   float64\n",
      " 13  Total expenditure                2712 non-null   float64\n",
      " 14  Diphtheria                       2919 non-null   float64\n",
      " 15   HIV/AIDS                        2938 non-null   float64\n",
      " 16  GDP                              2490 non-null   float64\n",
      " 17  Population                       2286 non-null   float64\n",
      " 18   thinness  1-19 years            2904 non-null   float64\n",
      " 19   thinness 5-9 years              2904 non-null   float64\n",
      " 20  Income composition of resources  2771 non-null   float64\n",
      " 21  Schooling                        2775 non-null   float64\n",
      "dtypes: float64(16), int64(4), object(2)\n",
      "memory usage: 505.1+ KB\n",
      "None\n"
     ]
    }
   ],
   "source": [
    "# Print info of DataFrame to get all attributes of table at once\n",
    "DF = pd.read_csv(\"Life Expectancy Data.csv\")\n",
    "print(DF.info())"
   ]
  },
  {
   "cell_type": "code",
   "execution_count": 3,
   "metadata": {},
   "outputs": [],
   "source": [
    "# It is good practice to ensure all columns follow the same name structure, so we need to ensure they are all string, lowercase, and without any white spaces.\n",
    "DF.columns = DF.columns.str.strip().str.lower()"
   ]
  },
  {
   "cell_type": "code",
   "execution_count": 4,
   "metadata": {},
   "outputs": [
    {
     "name": "stdout",
     "output_type": "stream",
     "text": [
      "Index(['country', 'year', 'status', 'life expectancy', 'adult mortality',\n",
      "       'infant deaths', 'alcohol', 'percentage expenditure', 'hepatitis b',\n",
      "       'measles', 'bmi', 'under-five deaths', 'polio', 'total expenditure',\n",
      "       'diphtheria', 'hiv/aids', 'gdp', 'population', 'thinness  1-19 years',\n",
      "       'thinness 5-9 years', 'income composition of resources', 'schooling'],\n",
      "      dtype='object')\n"
     ]
    }
   ],
   "source": [
    "# Ensure that columns are all strings, lower cases, and have no white spaces.\n",
    "print(DF.columns)"
   ]
  },
  {
   "cell_type": "code",
   "execution_count": 5,
   "metadata": {},
   "outputs": [],
   "source": [
    "# Now that leading and trailing spaces have been removed, can rename all columns\n",
    "DF = DF.rename(\n",
    "    columns={\n",
    "        'life expectancy': 'life_expect',\n",
    "        'adult mortality': 'adult_mortal',\n",
    "        'infant deaths': 'infant_death',\n",
    "        'percentage expenditure': 'percent_expend',\n",
    "        'hepatitis_b': 'hep_b',\n",
    "        'measles_': 'measles',\n",
    "        '_bmi_': 'bmi',\n",
    "        'under-five deaths': 'under_five_deaths',\n",
    "        'total expenditure': 'total_expend',\n",
    "        'diptheria ': 'diptheria',\n",
    "        '_hiv/aids': 'hiv/aids',\n",
    "        'thinness  1-19 years' : 'thinness_1-19_yrs',\n",
    "        'thinness 5-9 years': 'thinness_5-9_yrs',\n",
    "        'income composition of resources': 'income_comp_resources'\n",
    "\n",
    "    }\n",
    ")"
   ]
  },
  {
   "cell_type": "code",
   "execution_count": 6,
   "metadata": {},
   "outputs": [
    {
     "name": "stdout",
     "output_type": "stream",
     "text": [
      "Index(['country', 'year', 'status', 'life_expect', 'adult_mortal',\n",
      "       'infant_death', 'alcohol', 'percent_expend', 'hepatitis b', 'measles',\n",
      "       'bmi', 'under_five_deaths', 'polio', 'total_expend', 'diphtheria',\n",
      "       'hiv/aids', 'gdp', 'population', 'thinness_1-19_yrs',\n",
      "       'thinness_5-9_yrs', 'income_comp_resources', 'schooling'],\n",
      "      dtype='object')\n"
     ]
    }
   ],
   "source": [
    "print(DF.columns)"
   ]
  },
  {
   "cell_type": "code",
   "execution_count": 7,
   "metadata": {},
   "outputs": [
    {
     "name": "stdout",
     "output_type": "stream",
     "text": [
      "country                    0\n",
      "year                       0\n",
      "status                     0\n",
      "life_expect               10\n",
      "adult_mortal              10\n",
      "infant_death               0\n",
      "alcohol                  194\n",
      "percent_expend             0\n",
      "hepatitis b              553\n",
      "measles                    0\n",
      "bmi                       34\n",
      "under_five_deaths          0\n",
      "polio                     19\n",
      "total_expend             226\n",
      "diphtheria                19\n",
      "hiv/aids                   0\n",
      "gdp                      448\n",
      "population               652\n",
      "thinness_1-19_yrs         34\n",
      "thinness_5-9_yrs          34\n",
      "income_comp_resources    167\n",
      "schooling                163\n",
      "dtype: int64\n"
     ]
    }
   ],
   "source": [
    "print(DF.isna().sum())\n",
    "# Due to the enormous amount of data that is not missing from these columns, we will not drop any values as they is a significant amount of data provided, nor will we put 'N/A' or NaN as this may cause complications later when applying statistical analysis"
   ]
  },
  {
   "cell_type": "code",
   "execution_count": 8,
   "metadata": {},
   "outputs": [
    {
     "name": "stdout",
     "output_type": "stream",
     "text": [
      "2938\n"
     ]
    }
   ],
   "source": [
    "# Examine if there are duplicates\n",
    "print(DF.duplicated().count())"
   ]
  },
  {
   "cell_type": "code",
   "execution_count": 9,
   "metadata": {},
   "outputs": [],
   "source": [
    "# These results make sense seeing as the time period is from 2000-2015 and look at each country as an individual entry for each particular year. We will not drop any of these duplicates as that is not necessary and would hinder an accurate assessment of data."
   ]
  },
  {
   "cell_type": "code",
   "execution_count": 10,
   "metadata": {},
   "outputs": [],
   "source": [
    "# Create dataframes for each year, analyze the data and then make an overall analysis considering all dataframes"
   ]
  },
  {
   "cell_type": "code",
   "execution_count": 11,
   "metadata": {},
   "outputs": [
    {
     "name": "stdout",
     "output_type": "stream",
     "text": [
      "           country  year      status  life_expect  adult_mortal  infant_death  \\\n",
      "2264       Senegal  2000  Developing         57.5          25.0            27   \n",
      "2296    Seychelles  2000  Developing         71.8         188.0             0   \n",
      "1585        Malawi  2000  Developing         43.1         588.0            51   \n",
      "1329         Japan  2000   Developed         81.1          74.0             4   \n",
      "1393      Kiribati  2000  Developing         64.1         222.0             0   \n",
      "2568    Tajikistan  2000  Developing         63.7         198.0            14   \n",
      "31         Albania  2000  Developing         72.6          11.0             1   \n",
      "2408  South Africa  2000  Developing         57.3         397.0            51   \n",
      "1666    Mauritania  2000  Developing         60.0          23.0             7   \n",
      "1698        Mexico  2000  Developing         74.8         129.0            55   \n",
      "\n",
      "      alcohol  percent_expend  hepatitis b  measles  ...  polio  total_expend  \\\n",
      "2264     0.29        5.397369          NaN     5839  ...   49.0          4.63   \n",
      "2296     8.24      601.760812         98.0        0  ...   98.0          4.62   \n",
      "1585     1.18       13.762702          NaN      304  ...   73.0          6.70   \n",
      "1329     7.97     5926.296654          NaN    22497  ...   98.0          7.53   \n",
      "1393     0.46       11.075433          9.0        0  ...    9.0          8.12   \n",
      "2568     0.37        8.943006          NaN      192  ...   86.0          4.64   \n",
      "31       3.66       91.711541         96.0      662  ...   97.0          6.26   \n",
      "2408     7.30       45.963808         73.0     1459  ...   71.0          8.70   \n",
      "1666     0.03        8.594570          NaN        0  ...   58.0          5.26   \n",
      "1698     4.99       10.228401         97.0       30  ...   97.0          4.98   \n",
      "\n",
      "      diphtheria  hiv/aids           gdp  population  thinness_1-19_yrs  \\\n",
      "2264        52.0       0.5    473.453380    988452.0               12.3   \n",
      "2296        98.0       0.1   7578.851530     81131.0                6.3   \n",
      "1585        75.0      25.5    153.259487  11376172.0                8.0   \n",
      "1329        85.0       0.1  38532.488000    126843.0                1.6   \n",
      "1393         9.0       0.1    796.793763      8446.0                0.2   \n",
      "2568        83.0       0.3    138.436633    621625.0                4.2   \n",
      "31          97.0       0.1   1175.788981     38927.0                2.1   \n",
      "2408        73.0      21.3    337.225300  44896856.0               16.3   \n",
      "1666        51.0       1.1    477.476124    279359.0                1.9   \n",
      "1698        97.0       0.1    672.921130  11719673.0                2.0   \n",
      "\n",
      "      thinness_5-9_yrs  income_comp_resources  schooling  \n",
      "2264              12.3                  0.378        5.2  \n",
      "2296               6.7                  0.000       12.3  \n",
      "1585               7.9                  0.391       10.7  \n",
      "1329               1.4                  0.852       14.5  \n",
      "1393               0.2                  0.000       10.0  \n",
      "2568               4.1                  0.529        9.6  \n",
      "31                 2.2                  0.656       10.7  \n",
      "2408              19.1                  0.635       13.0  \n",
      "1666               1.7                  0.443        6.4  \n",
      "1698               1.9                  0.694       11.4  \n",
      "\n",
      "[10 rows x 22 columns]\n"
     ]
    }
   ],
   "source": [
    "# Create DF for the year 2000\n",
    "DF_2000 = DF[DF['year'] == 2000]\n",
    "\n",
    "# Print sample of DF_2000 to ensure DF_2000 was properly created\n",
    "print(DF_2000.sample(10))"
   ]
  },
  {
   "cell_type": "code",
   "execution_count": 12,
   "metadata": {},
   "outputs": [
    {
     "name": "stdout",
     "output_type": "stream",
     "text": [
      "<class 'pandas.core.frame.DataFrame'>\n",
      "Index: 183 entries, 15 to 2937\n",
      "Data columns (total 22 columns):\n",
      " #   Column                 Non-Null Count  Dtype  \n",
      "---  ------                 --------------  -----  \n",
      " 0   country                183 non-null    object \n",
      " 1   year                   183 non-null    int64  \n",
      " 2   status                 183 non-null    object \n",
      " 3   life_expect            183 non-null    float64\n",
      " 4   adult_mortal           183 non-null    float64\n",
      " 5   infant_death           183 non-null    int64  \n",
      " 6   alcohol                182 non-null    float64\n",
      " 7   percent_expend         183 non-null    float64\n",
      " 8   hepatitis b            85 non-null     float64\n",
      " 9   measles                183 non-null    int64  \n",
      " 10  bmi                    181 non-null    float64\n",
      " 11  under_five_deaths      183 non-null    int64  \n",
      " 12  polio                  180 non-null    float64\n",
      " 13  total_expend           179 non-null    float64\n",
      " 14  diphtheria             180 non-null    float64\n",
      " 15  hiv/aids               183 non-null    float64\n",
      " 16  gdp                    154 non-null    float64\n",
      " 17  population             143 non-null    float64\n",
      " 18  thinness_1-19_yrs      181 non-null    float64\n",
      " 19  thinness_5-9_yrs       181 non-null    float64\n",
      " 20  income_comp_resources  173 non-null    float64\n",
      " 21  schooling              173 non-null    float64\n",
      "dtypes: float64(16), int64(4), object(2)\n",
      "memory usage: 32.9+ KB\n",
      "None\n"
     ]
    }
   ],
   "source": [
    "# Get a little more information by using info() method on DF_2000\n",
    "print(DF_2000.info())"
   ]
  },
  {
   "cell_type": "code",
   "execution_count": 13,
   "metadata": {},
   "outputs": [
    {
     "name": "stdout",
     "output_type": "stream",
     "text": [
      "Index(['country', 'year', 'status', 'life_expect', 'adult_mortal',\n",
      "       'infant_death', 'alcohol', 'percent_expend', 'hepatitis b', 'measles',\n",
      "       'bmi', 'under_five_deaths', 'polio', 'total_expend', 'diphtheria',\n",
      "       'hiv/aids', 'gdp', 'population', 'thinness_1-19_yrs',\n",
      "       'thinness_5-9_yrs', 'income_comp_resources', 'schooling'],\n",
      "      dtype='object')\n"
     ]
    }
   ],
   "source": [
    "# After creating the new DF_2000, the column names have reverted back to their originals. To keep consistency for all DFs created, we will rename them so as to be able to refer to one singular name for all.\n",
    "DF_2000 = DF.rename(\n",
    "    columns={\n",
    "        'life expectancy': 'life_expect',\n",
    "        'adult mortality': 'adult_mortal',\n",
    "        'infant deaths': 'infant_death',\n",
    "        'percentage expenditure': 'percent_expend',\n",
    "        'hepatitis_b': 'hep_b',\n",
    "        'measles_': 'measles',\n",
    "        '_bmi_': 'bmi',\n",
    "        'under-five deaths': 'under_five_deaths',\n",
    "        'total expenditure': 'total_expend',\n",
    "        'diptheria ': 'diptheria',\n",
    "        '_hiv/aids': 'hiv/aids',\n",
    "        'thinness  1-19 years' : 'thinness_1-19_yrs',\n",
    "        'thinness 5-9 years': 'thinness_5-9_yrs',\n",
    "        'income composition of resources': 'income_comp_resources'\n",
    "\n",
    "    }\n",
    ")\n",
    "\n",
    "print(DF_2000.columns)"
   ]
  },
  {
   "cell_type": "code",
   "execution_count": 14,
   "metadata": {},
   "outputs": [
    {
     "name": "stdout",
     "output_type": "stream",
     "text": [
      "                       country  year     status  life_expect  adult_mortal  \\\n",
      "112                  Australia  2015  Developed         82.8          59.0   \n",
      "113                  Australia  2014  Developed         82.7           6.0   \n",
      "114                  Australia  2013  Developed         82.5          61.0   \n",
      "115                  Australia  2012  Developed         82.3          61.0   \n",
      "116                  Australia  2011  Developed         82.0          63.0   \n",
      "...                        ...   ...        ...          ...           ...   \n",
      "2805  United States of America  2004  Developed         77.5         111.0   \n",
      "2806  United States of America  2003  Developed         77.2         114.0   \n",
      "2807  United States of America  2002  Developed         77.0         115.0   \n",
      "2808  United States of America  2001  Developed         76.9         115.0   \n",
      "2809  United States of America  2000  Developed         76.8         114.0   \n",
      "\n",
      "      infant_death  alcohol  percent_expend  hepatitis b  measles  ...  polio  \\\n",
      "112              1      NaN         0.00000         93.0       74  ...   93.0   \n",
      "113              1     9.71     10769.36305         91.0      340  ...   92.0   \n",
      "114              1     9.87     11734.85381         91.0      158  ...   91.0   \n",
      "115              1    10.03     11714.99858         91.0      199  ...   92.0   \n",
      "116              1    10.30     10986.26527         92.0      190  ...   92.0   \n",
      "...            ...      ...             ...          ...      ...  ...    ...   \n",
      "2805            28     8.48         0.00000         92.0       37  ...   92.0   \n",
      "2806            28     8.40         0.00000         92.0       56  ...   91.0   \n",
      "2807            28     8.33         0.00000         88.0       41  ...    9.0   \n",
      "2808            28     8.25         0.00000         89.0      116  ...   89.0   \n",
      "2809            28     8.21         0.00000          9.0       85  ...    9.0   \n",
      "\n",
      "      total_expend  diphtheria  hiv/aids          gdp  population  \\\n",
      "112            NaN        93.0       0.1  56554.38760  23789338.0   \n",
      "113           9.42        92.0       0.1  62214.69120   2346694.0   \n",
      "114           9.36        91.0       0.1  67792.33860  23117353.0   \n",
      "115           9.36        92.0       0.1  67677.63477  22728254.0   \n",
      "116           9.20        92.0       0.1  62245.12900    223424.0   \n",
      "...            ...         ...       ...          ...         ...   \n",
      "2805         15.14        96.0       0.1          NaN         NaN   \n",
      "2806         15.60        96.0       0.1          NaN         NaN   \n",
      "2807         14.55        94.0       0.1          NaN         NaN   \n",
      "2808         13.73        94.0       0.1          NaN         NaN   \n",
      "2809         13.70        94.0       0.1          NaN         NaN   \n",
      "\n",
      "      thinness_1-19_yrs  thinness_5-9_yrs  income_comp_resources  schooling  \n",
      "112                 0.6               0.6                  0.937       20.4  \n",
      "113                 0.6               0.6                  0.936       20.4  \n",
      "114                 0.6               0.6                  0.933       20.3  \n",
      "115                 0.6               0.6                  0.930       20.1  \n",
      "116                 0.6               0.6                  0.927       19.8  \n",
      "...                 ...               ...                    ...        ...  \n",
      "2805                0.7               0.6                    NaN        NaN  \n",
      "2806                0.7               0.6                    NaN        NaN  \n",
      "2807                0.8               0.6                    NaN        NaN  \n",
      "2808                0.8               0.6                    NaN        NaN  \n",
      "2809                0.8               0.7                    NaN        NaN  \n",
      "\n",
      "[512 rows x 22 columns]\n"
     ]
    }
   ],
   "source": [
    "#There is still quite a lot of data entries for this specific DF, it would be easier to analyze data if separated into smaller categories. \n",
    "# Create a developed DF for DF_2000\n",
    "DF_2000_developed = DF_2000[DF_2000['status'] == 'Developed']\n",
    "\n",
    "#Ensure DF_2000_developed properly created\n",
    "print(DF_2000_developed)"
   ]
  },
  {
   "cell_type": "code",
   "execution_count": 15,
   "metadata": {},
   "outputs": [
    {
     "name": "stdout",
     "output_type": "stream",
     "text": [
      "          country  year      status  life_expect  adult_mortal  infant_death  \\\n",
      "0     Afghanistan  2015  Developing         65.0         263.0            62   \n",
      "1     Afghanistan  2014  Developing         59.9         271.0            64   \n",
      "2     Afghanistan  2013  Developing         59.9         268.0            66   \n",
      "3     Afghanistan  2012  Developing         59.5         272.0            69   \n",
      "4     Afghanistan  2011  Developing         59.2         275.0            71   \n",
      "...           ...   ...         ...          ...           ...           ...   \n",
      "2933     Zimbabwe  2004  Developing         44.3         723.0            27   \n",
      "2934     Zimbabwe  2003  Developing         44.5         715.0            26   \n",
      "2935     Zimbabwe  2002  Developing         44.8          73.0            25   \n",
      "2936     Zimbabwe  2001  Developing         45.3         686.0            25   \n",
      "2937     Zimbabwe  2000  Developing         46.0         665.0            24   \n",
      "\n",
      "      alcohol  percent_expend  hepatitis b  measles  ...  polio  total_expend  \\\n",
      "0        0.01       71.279624         65.0     1154  ...    6.0          8.16   \n",
      "1        0.01       73.523582         62.0      492  ...   58.0          8.18   \n",
      "2        0.01       73.219243         64.0      430  ...   62.0          8.13   \n",
      "3        0.01       78.184215         67.0     2787  ...   67.0          8.52   \n",
      "4        0.01        7.097109         68.0     3013  ...   68.0          7.87   \n",
      "...       ...             ...          ...      ...  ...    ...           ...   \n",
      "2933     4.36        0.000000         68.0       31  ...   67.0          7.13   \n",
      "2934     4.06        0.000000          7.0      998  ...    7.0          6.52   \n",
      "2935     4.43        0.000000         73.0      304  ...   73.0          6.53   \n",
      "2936     1.72        0.000000         76.0      529  ...   76.0          6.16   \n",
      "2937     1.68        0.000000         79.0     1483  ...   78.0          7.10   \n",
      "\n",
      "      diphtheria  hiv/aids         gdp  population  thinness_1-19_yrs  \\\n",
      "0           65.0       0.1  584.259210  33736494.0               17.2   \n",
      "1           62.0       0.1  612.696514    327582.0               17.5   \n",
      "2           64.0       0.1  631.744976  31731688.0               17.7   \n",
      "3           67.0       0.1  669.959000   3696958.0               17.9   \n",
      "4           68.0       0.1   63.537231   2978599.0               18.2   \n",
      "...          ...       ...         ...         ...                ...   \n",
      "2933        65.0      33.6  454.366654  12777511.0                9.4   \n",
      "2934        68.0      36.7  453.351155  12633897.0                9.8   \n",
      "2935        71.0      39.8   57.348340    125525.0                1.2   \n",
      "2936        75.0      42.1  548.587312  12366165.0                1.6   \n",
      "2937        78.0      43.5  547.358878  12222251.0               11.0   \n",
      "\n",
      "      thinness_5-9_yrs  income_comp_resources  schooling  \n",
      "0                 17.3                  0.479       10.1  \n",
      "1                 17.5                  0.476       10.0  \n",
      "2                 17.7                  0.470        9.9  \n",
      "3                 18.0                  0.463        9.8  \n",
      "4                 18.2                  0.454        9.5  \n",
      "...                ...                    ...        ...  \n",
      "2933               9.4                  0.407        9.2  \n",
      "2934               9.9                  0.418        9.5  \n",
      "2935               1.3                  0.427       10.0  \n",
      "2936               1.7                  0.427        9.8  \n",
      "2937              11.2                  0.434        9.8  \n",
      "\n",
      "[2426 rows x 22 columns]\n"
     ]
    }
   ],
   "source": [
    "#Create a DF for developing countries from the DF_2000 data\n",
    "DF_2000_developing = DF_2000[DF_2000['status'] == 'Developing']\n",
    "\n",
    "#Ensure DF_2000_developing was properly created\n",
    "print(DF_2000_developing)"
   ]
  },
  {
   "cell_type": "code",
   "execution_count": 16,
   "metadata": {},
   "outputs": [],
   "source": [
    "# Look at how various predicting factors, already chosen, affect the life expectancy; then determine the most influential factors on the life expectancy for this chosen time period.\n",
    "# Analyze Biological Factors first, these include: alcohol, hep_b, measles, polio, diptheria, hiv/aids, both categories for thinness, as well as bmi\n",
    "# Assess these biological factors against the adult_mortal, infant_death, and life_expect columns, and determine if there is a positive or negative correlation. \n"
   ]
  },
  {
   "cell_type": "code",
   "execution_count": 21,
   "metadata": {},
   "outputs": [
    {
     "data": {
      "image/png": "[encoded data removed]",
      "text/plain": [
       "<Figure size 1400x600 with 2 Axes>"
      ]
     },
     "metadata": {},
     "output_type": "display_data"
    }
   ],
   "source": [
    "# How does consumption of alochol per capita (liters of pure alcohol) impact infant deaths, adult mortality, and the overall life expectancy for developed countries\n",
    "\n",
    "# Create scatter plot for infant death in developed countries vs. alcohol consumption\n",
    "plt.figure(figsize=(14,6))\n",
    "\n",
    "# Scatter plot for infant_death vs alcohol\n",
    "plt.subplot(1,2,1)\n",
    "plt.scatter(DF_2000_developed['alcohol'], DF_2000_developed['infant_death'], color='red')\n",
    "plt.title('Infant Deaths vs. Alcohol Consumption')\n",
    "plt.xlabel('Alcohol Consumption (liters pure alcohol)')\n",
    "plt.ylabel('Infant Death (deaths children >1yr. old per 1,000 live births)')\n",
    "plt.xlim(DF_2000_developed['alcohol'].min() - 1, DF_2000_developed['alcohol'].max() + 1)\n",
    "plt.ylim(DF_2000_developed['infant_death'].min() - 1, DF_2000_developed['infant_death'].max() + 1)\n",
    "plt.grid(True)\n",
    "\n",
    "# Scatter plot for adult_mortal vs alcohol\n",
    "plt.subplot(1,2,2)\n",
    "plt.scatter(DF_2000_developed['alcohol'], DF_2000_developed['adult_mortal'], color='green')\n",
    "plt.title('Adult Deaths vs. Alcohol Consumption')\n",
    "plt.xlabel('Alcohol Consumption (liters pure alcohol)')\n",
    "plt.ylabel('Adult Mortality Rate (age 15-59 years old)')\n",
    "plt.xlim(DF_2000_developed['alcohol'].min() - 1, DF_2000_developed['alcohol'].max() + 1)\n",
    "plt.ylim(DF_2000_developed['adult_mortal'].min() - 1, DF_2000_developed['adult_mortal'].max() + 1)\n",
    "plt.grid(True)"
   ]
  },
  {
   "cell_type": "code",
   "execution_count": 22,
   "metadata": {},
   "outputs": [
    {
     "name": "stdout",
     "output_type": "stream",
     "text": [
      "-0.08\n"
     ]
    }
   ],
   "source": [
    "# Find the correlation coefficient between infant_death and alcohol\n",
    "infant_death_alc_correlation = DF_2000_developed['infant_death'].corr(DF_2000_developed['alcohol'])\n",
    "print(f\"{infant_death_alc_correlation: .2f}\")"
   ]
  },
  {
   "cell_type": "code",
   "execution_count": 23,
   "metadata": {},
   "outputs": [
    {
     "name": "stdout",
     "output_type": "stream",
     "text": [
      " 0.14\n"
     ]
    }
   ],
   "source": [
    "# Find the correlation between adult_mortal and alcohol\n",
    "adult_mortal_alc_correlation = DF_2000_developed['adult_mortal'].corr(DF_2000_developed['alcohol'])\n",
    "print(f\"{adult_mortal_alc_correlation: .2f}\")"
   ]
  }
 ],
 "metadata": {
  "kernelspec": {
   "display_name": "venv",
   "language": "python",
   "name": "python3"
  },
  "language_info": {
   "codemirror_mode": {
    "name": "ipython",
    "version": 3
   },
   "file_extension": ".py",
   "mimetype": "text/x-python",
   "name": "python",
   "nbconvert_exporter": "python",
   "pygments_lexer": "ipython3",
   "version": "3.11.7"
  }
 },
 "nbformat": 4,
 "nbformat_minor": 2
}
