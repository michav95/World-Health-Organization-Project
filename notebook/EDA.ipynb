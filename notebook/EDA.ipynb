{
 "cells": [
  {
   "cell_type": "markdown",
   "metadata": {
    "vscode": {
     "languageId": "plaintext"
    }
   },
   "source": [
    "EDIT OVERVIEW OF PROJECT"
   ]
  },
  {
   "cell_type": "code",
   "execution_count": 29,
   "metadata": {},
   "outputs": [],
   "source": [
    "# Import packages needed for analysis of data\n",
    "import pandas as pd\n",
    "import plotly.express as px\n",
    "import re\n",
    "from matplotlib import pyplot as plt \n",
    "import numpy as np \n",
    "from scipy import stats \n",
    "import seaborn as sns"
   ]
  },
  {
   "cell_type": "code",
   "execution_count": 30,
   "metadata": {},
   "outputs": [
    {
     "name": "stdout",
     "output_type": "stream",
     "text": [
      "<class 'pandas.core.frame.DataFrame'>\n",
      "RangeIndex: 2938 entries, 0 to 2937\n",
      "Data columns (total 22 columns):\n",
      " #   Column                           Non-Null Count  Dtype  \n",
      "---  ------                           --------------  -----  \n",
      " 0   Country                          2938 non-null   object \n",
      " 1   Year                             2938 non-null   int64  \n",
      " 2   Status                           2938 non-null   object \n",
      " 3   Life expectancy                  2928 non-null   float64\n",
      " 4   Adult Mortality                  2928 non-null   float64\n",
      " 5   infant deaths                    2938 non-null   int64  \n",
      " 6   Alcohol                          2744 non-null   float64\n",
      " 7   percentage expenditure           2938 non-null   float64\n",
      " 8   Hepatitis B                      2385 non-null   float64\n",
      " 9   Measles                          2938 non-null   int64  \n",
      " 10   BMI                             2904 non-null   float64\n",
      " 11  under-five deaths                2938 non-null   int64  \n",
      " 12  Polio                            2919 non-null   float64\n",
      " 13  Total expenditure                2712 non-null   float64\n",
      " 14  Diphtheria                       2919 non-null   float64\n",
      " 15   HIV/AIDS                        2938 non-null   float64\n",
      " 16  GDP                              2490 non-null   float64\n",
      " 17  Population                       2286 non-null   float64\n",
      " 18   thinness  1-19 years            2904 non-null   float64\n",
      " 19   thinness 5-9 years              2904 non-null   float64\n",
      " 20  Income composition of resources  2771 non-null   float64\n",
      " 21  Schooling                        2775 non-null   float64\n",
      "dtypes: float64(16), int64(4), object(2)\n",
      "memory usage: 505.1+ KB\n",
      "None\n"
     ]
    }
   ],
   "source": [
    "# Print info of DataFrame to get all attributes of table at once\n",
    "DF = pd.read_csv(\"Life Expectancy Data.csv\")\n",
    "print(DF.info())"
   ]
  },
  {
   "cell_type": "code",
   "execution_count": 31,
   "metadata": {},
   "outputs": [],
   "source": [
    "# It is good practice to ensure all columns follow the same name structure, so we need to ensure they are all string, lowercase, and without any white spaces.\n",
    "DF.columns = DF.columns.str.strip().str.lower()"
   ]
  },
  {
   "cell_type": "code",
   "execution_count": 32,
   "metadata": {},
   "outputs": [
    {
     "name": "stdout",
     "output_type": "stream",
     "text": [
      "Index(['country', 'year', 'status', 'life expectancy', 'adult mortality',\n",
      "       'infant deaths', 'alcohol', 'percentage expenditure', 'hepatitis b',\n",
      "       'measles', 'bmi', 'under-five deaths', 'polio', 'total expenditure',\n",
      "       'diphtheria', 'hiv/aids', 'gdp', 'population', 'thinness  1-19 years',\n",
      "       'thinness 5-9 years', 'income composition of resources', 'schooling'],\n",
      "      dtype='object')\n"
     ]
    }
   ],
   "source": [
    "# Ensure that columns are all strings, lower cases, and have no white spaces.\n",
    "print(DF.columns)"
   ]
  },
  {
   "cell_type": "code",
   "execution_count": 33,
   "metadata": {},
   "outputs": [],
   "source": [
    "# Now that leading and trailing spaces have been removed, can rename all columns\n",
    "DF = DF.rename(\n",
    "    columns={\n",
    "        'life expectancy': 'life_expect',\n",
    "        'adult mortality': 'adult_mortal',\n",
    "        'infant deaths': 'infant_death',\n",
    "        'percentage expenditure': 'percent_expend',\n",
    "        'hepatitis_b': 'hep_b',\n",
    "        'measles_': 'measles',\n",
    "        '_bmi_': 'bmi',\n",
    "        'under-five deaths': 'under_five_deaths',\n",
    "        'total expenditure': 'total_expend',\n",
    "        'diptheria ': 'diptheria',\n",
    "        '_hiv/aids': 'hiv/aids',\n",
    "        'thinness  1-19 years' : 'thinness_1-19_yrs',\n",
    "        'thinness 5-9 years': 'thinness_5-9_yrs',\n",
    "        'income composition of resources': 'income_comp_resources'\n",
    "\n",
    "    }\n",
    ")"
   ]
  },
  {
   "cell_type": "code",
   "execution_count": 34,
   "metadata": {},
   "outputs": [
    {
     "name": "stdout",
     "output_type": "stream",
     "text": [
      "Index(['country', 'year', 'status', 'life_expect', 'adult_mortal',\n",
      "       'infant_death', 'alcohol', 'percent_expend', 'hepatitis b', 'measles',\n",
      "       'bmi', 'under_five_deaths', 'polio', 'total_expend', 'diphtheria',\n",
      "       'hiv/aids', 'gdp', 'population', 'thinness_1-19_yrs',\n",
      "       'thinness_5-9_yrs', 'income_comp_resources', 'schooling'],\n",
      "      dtype='object')\n"
     ]
    }
   ],
   "source": [
    "print(DF.columns)"
   ]
  },
  {
   "cell_type": "code",
   "execution_count": 35,
   "metadata": {},
   "outputs": [
    {
     "name": "stdout",
     "output_type": "stream",
     "text": [
      "country                    0\n",
      "year                       0\n",
      "status                     0\n",
      "life_expect               10\n",
      "adult_mortal              10\n",
      "infant_death               0\n",
      "alcohol                  194\n",
      "percent_expend             0\n",
      "hepatitis b              553\n",
      "measles                    0\n",
      "bmi                       34\n",
      "under_five_deaths          0\n",
      "polio                     19\n",
      "total_expend             226\n",
      "diphtheria                19\n",
      "hiv/aids                   0\n",
      "gdp                      448\n",
      "population               652\n",
      "thinness_1-19_yrs         34\n",
      "thinness_5-9_yrs          34\n",
      "income_comp_resources    167\n",
      "schooling                163\n",
      "dtype: int64\n"
     ]
    }
   ],
   "source": [
    "print(DF.isna().sum())\n",
    "# Due to the enormous amount of data that is not missing from these columns, we will not drop any values as they is a significant amount of data provided, nor will we put 'N/A' or NaN as this may cause complications later when applying statistical analysis"
   ]
  },
  {
   "cell_type": "code",
   "execution_count": null,
   "metadata": {},
   "outputs": [
    {
     "name": "stdout",
     "output_type": "stream",
     "text": [
      "2938\n"
     ]
    }
   ],
   "source": [
    "# Examine if there are duplicates\n",
    "print(DF.duplicated().count())"
   ]
  },
  {
   "cell_type": "code",
   "execution_count": null,
   "metadata": {},
   "outputs": [],
   "source": [
    "# These results make sense seeing as the time period is from 2000-2015 and look at each country as an individual entry for each particular year. We will not drop any of these duplicates as that is not necessary and would hinder an accurate assessment of data."
   ]
  },
  {
   "cell_type": "code",
   "execution_count": 38,
   "metadata": {},
   "outputs": [],
   "source": [
    "# Create dataframes for each year, analyze the data and then make an overall analysis considering all dataframes"
   ]
  },
  {
   "cell_type": "code",
   "execution_count": 44,
   "metadata": {},
   "outputs": [
    {
     "name": "stdout",
     "output_type": "stream",
     "text": [
      "                               country  year      status  life_expect  \\\n",
      "2809          United States of America  2000   Developed         76.8   \n",
      "2424                       South Sudan  2000  Developing         48.9   \n",
      "1892                             Niger  2000  Developing         50.0   \n",
      "63                              Angola  2000  Developing         45.3   \n",
      "255                            Belgium  2000   Developed         77.6   \n",
      "383                  Brunei Darussalam  2000  Developing         74.4   \n",
      "736   Democratic Republic of the Congo  2000  Developing         51.3   \n",
      "1795                           Myanmar  2000  Developing         62.1   \n",
      "2648                             Tonga  2000  Developing         71.6   \n",
      "495                           Cameroon  2000  Developing         51.4   \n",
      "\n",
      "      adult_mortal  infant_death  alcohol  percent_expend  hepatitis b  \\\n",
      "2809         114.0            28     8.21        0.000000          9.0   \n",
      "2424          38.0            31      NaN        0.000000          NaN   \n",
      "1892         284.0            58     0.10       13.357838          NaN   \n",
      "63            48.0            97     1.85       15.881493          NaN   \n",
      "255           11.0             1    11.21      287.208453          6.0   \n",
      "383           16.0             0     0.37       11.796861         99.0   \n",
      "736          346.0           226     1.98        0.000000          NaN   \n",
      "1795         243.0            73     0.35        2.511437          NaN   \n",
      "2648         158.0             0     1.24       40.491289         93.0   \n",
      "495          394.0            62     3.91        4.720594          NaN   \n",
      "\n",
      "      measles  ...  polio  total_expend  diphtheria  hiv/aids          gdp  \\\n",
      "2809       85  ...    9.0         13.70        94.0       0.1          NaN   \n",
      "2424        0  ...    NaN           NaN         NaN       2.7          NaN   \n",
      "1892    21319  ...   41.0          6.10        34.0       1.5   158.455972   \n",
      "63       2219  ...    3.0          2.79        28.0       2.0   555.296942   \n",
      "255         0  ...   96.0          8.12        95.0       0.1  2327.459100   \n",
      "383        42  ...   99.0          3.50        99.0       0.1   188.448260   \n",
      "736      8282  ...   42.0          1.45         4.0       2.5          NaN   \n",
      "1795      845  ...   88.0          1.84        82.0       0.4   193.187484   \n",
      "2648        0  ...   91.0          4.75        91.0       0.1   263.272360   \n",
      "495     14629  ...   57.0          4.48        62.0       7.7    68.414399   \n",
      "\n",
      "      population  thinness_1-19_yrs  thinness_5-9_yrs  income_comp_resources  \\\n",
      "2809         NaN                0.8               0.7                    NaN   \n",
      "2424     67656.0                NaN               NaN                  0.000   \n",
      "1892  11352973.0               12.8              12.9                  0.253   \n",
      "63     1644924.0                1.9               1.9                  0.382   \n",
      "255     125125.0                0.8               0.8                  0.869   \n",
      "383          NaN                6.8               6.3                  0.818   \n",
      "736          NaN               12.4              12.3                    NaN   \n",
      "1795   4695462.0               13.3              13.7                  0.417   \n",
      "2648      9882.0                0.1               0.1                  0.676   \n",
      "495   15274234.0                7.7               7.8                  0.433   \n",
      "\n",
      "      schooling  \n",
      "2809        NaN  \n",
      "2424        0.0  \n",
      "1892        2.8  \n",
      "63          4.6  \n",
      "255        18.0  \n",
      "383        13.4  \n",
      "736         NaN  \n",
      "1795        7.5  \n",
      "2648       13.7  \n",
      "495         6.9  \n",
      "\n",
      "[10 rows x 22 columns]\n"
     ]
    }
   ],
   "source": [
    "# Create DF for the year 2000\n",
    "DF_2000 = DF[DF['year'] == 2000]\n",
    "\n",
    "# Print sample of DF_2000\n",
    "print(DF_2000.sample(10))"
   ]
  },
  {
   "cell_type": "code",
   "execution_count": null,
   "metadata": {},
   "outputs": [
    {
     "name": "stdout",
     "output_type": "stream",
     "text": [
      "Index(['country', 'year', 'status', 'life_expect', 'adult_mortal',\n",
      "       'infant_death', 'alcohol', 'percent_expend', 'hepatitis b', 'measles',\n",
      "       'bmi', 'under_five_deaths', 'polio', 'total_expend', 'diphtheria',\n",
      "       'hiv/aids', 'gdp', 'population', 'thinness_1-19_yrs',\n",
      "       'thinness_5-9_yrs', 'income_comp_resources', 'schooling'],\n",
      "      dtype='object')\n"
     ]
    }
   ],
   "source": [
    "# After creating the new DF_2000, the column names have reverted back to their originals. To keep consistency for all DFs created, we will rename them so as to be able to refer to one singular name for all.\n",
    "DF_2000 = DF.rename(\n",
    "    columns={\n",
    "        'life expectancy': 'life_expect',\n",
    "        'adult mortality': 'adult_mortal',\n",
    "        'infant deaths': 'infant_death',\n",
    "        'percentage expenditure': 'percent_expend',\n",
    "        'hepatitis_b': 'hep_b',\n",
    "        'measles_': 'measles',\n",
    "        '_bmi_': 'bmi',\n",
    "        'under-five deaths': 'under_five_deaths',\n",
    "        'total expenditure': 'total_expend',\n",
    "        'diptheria ': 'diptheria',\n",
    "        '_hiv/aids': 'hiv/aids',\n",
    "        'thinness  1-19 years' : 'thinness_1-19_yrs',\n",
    "        'thinness 5-9 years': 'thinness_5-9_yrs',\n",
    "        'income composition of resources': 'income_comp_resources'\n",
    "\n",
    "    }\n",
    ")\n",
    "\n",
    "print(DF_2000.columns)"
   ]
  },
  {
   "cell_type": "code",
   "execution_count": null,
   "metadata": {},
   "outputs": [],
   "source": [
    "# Look at how various predicting factors, already chosen, affect the life expectancy; then determine the most influential factors on the life expectancy for this chosen time period.\n",
    "# Analyze Biological Factors first, these include: alcohol, hep_b, measles, polio, diptheria, hiv/aids, both categories for thinness, as well as bmi\n",
    "# Assess these biological factors against the adult_mortal and infant_death columns, and determine if there is a positive or negative correlation. \n"
   ]
  },
  {
   "cell_type": "code",
   "execution_count": null,
   "metadata": {},
   "outputs": [],
   "source": [
    "# How does consumption of alochol per capita (liters of pure alcohol) impact infant deaths, adult mortality, and the overall life expectancy"
   ]
  }
 ],
 "metadata": {
  "kernelspec": {
   "display_name": "venv",
   "language": "python",
   "name": "python3"
  },
  "language_info": {
   "codemirror_mode": {
    "name": "ipython",
    "version": 3
   },
   "file_extension": ".py",
   "mimetype": "text/x-python",
   "name": "python",
   "nbconvert_exporter": "python",
   "pygments_lexer": "ipython3",
   "version": "3.11.7"
  }
 },
 "nbformat": 4,
 "nbformat_minor": 2
}
