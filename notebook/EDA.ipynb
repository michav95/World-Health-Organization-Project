{
 "cells": [
  {
   "cell_type": "markdown",
   "metadata": {
    "vscode": {
     "languageId": "plaintext"
    }
   },
   "source": [
    "EDIT OVERVIEW OF PROJECT"
   ]
  },
  {
   "cell_type": "code",
   "execution_count": 9,
   "metadata": {},
   "outputs": [],
   "source": [
    "# Import packages needed for analysis of data\n",
    "import pandas as pd\n",
    "import plotly.express as px\n",
    "import re\n",
    "from matplotlib import pyplot as plt \n",
    "import numpy as np \n",
    "from scipy import stats \n",
    "import seaborn as sns"
   ]
  },
  {
   "cell_type": "code",
   "execution_count": 11,
   "metadata": {},
   "outputs": [
    {
     "name": "stdout",
     "output_type": "stream",
     "text": [
      "<class 'pandas.core.frame.DataFrame'>\n",
      "RangeIndex: 2938 entries, 0 to 2937\n",
      "Data columns (total 22 columns):\n",
      " #   Column                           Non-Null Count  Dtype  \n",
      "---  ------                           --------------  -----  \n",
      " 0   Country                          2938 non-null   object \n",
      " 1   Year                             2938 non-null   int64  \n",
      " 2   Status                           2938 non-null   object \n",
      " 3   Life expectancy                  2928 non-null   float64\n",
      " 4   Adult Mortality                  2928 non-null   float64\n",
      " 5   infant deaths                    2938 non-null   int64  \n",
      " 6   Alcohol                          2744 non-null   float64\n",
      " 7   percentage expenditure           2938 non-null   float64\n",
      " 8   Hepatitis B                      2385 non-null   float64\n",
      " 9   Measles                          2938 non-null   int64  \n",
      " 10   BMI                             2904 non-null   float64\n",
      " 11  under-five deaths                2938 non-null   int64  \n",
      " 12  Polio                            2919 non-null   float64\n",
      " 13  Total expenditure                2712 non-null   float64\n",
      " 14  Diphtheria                       2919 non-null   float64\n",
      " 15   HIV/AIDS                        2938 non-null   float64\n",
      " 16  GDP                              2490 non-null   float64\n",
      " 17  Population                       2286 non-null   float64\n",
      " 18   thinness  1-19 years            2904 non-null   float64\n",
      " 19   thinness 5-9 years              2904 non-null   float64\n",
      " 20  Income composition of resources  2771 non-null   float64\n",
      " 21  Schooling                        2775 non-null   float64\n",
      "dtypes: float64(16), int64(4), object(2)\n",
      "memory usage: 505.1+ KB\n",
      "None\n"
     ]
    }
   ],
   "source": [
    "# Print info of DataFrame to get all attributes of table at once\n",
    "DF = pd.read_csv(\"Life Expectancy Data.csv\")\n",
    "print(DF.info())"
   ]
  }
 ],
 "metadata": {
  "kernelspec": {
   "display_name": "venv",
   "language": "python",
   "name": "python3"
  },
  "language_info": {
   "codemirror_mode": {
    "name": "ipython",
    "version": 3
   },
   "file_extension": ".py",
   "mimetype": "text/x-python",
   "name": "python",
   "nbconvert_exporter": "python",
   "pygments_lexer": "ipython3",
   "version": "3.11.7"
  }
 },
 "nbformat": 4,
 "nbformat_minor": 2
}
